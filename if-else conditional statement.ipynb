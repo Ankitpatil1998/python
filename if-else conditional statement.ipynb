{
 "cells": [
  {
   "cell_type": "markdown",
   "id": "6c455289",
   "metadata": {},
   "source": [
    "## simple if"
   ]
  },
  {
   "cell_type": "code",
   "execution_count": 3,
   "id": "3979374a",
   "metadata": {},
   "outputs": [
    {
     "name": "stdout",
     "output_type": "stream",
     "text": [
      "enter age:15\n"
     ]
    }
   ],
   "source": [
    "a=int(input(\"enter age:\"))\n",
    "if a>=18:\n",
    "    print(\"can vote\")\n",
    "\n",
    "    "
   ]
  },
  {
   "cell_type": "code",
   "execution_count": 4,
   "id": "99a5adf8",
   "metadata": {},
   "outputs": [
    {
     "name": "stdout",
     "output_type": "stream",
     "text": [
      "enter age:16\n",
      "not eligible for vote\n"
     ]
    }
   ],
   "source": [
    "## if-else statement\n",
    "a=int(input(\"enter age:\"))\n",
    "if a>=18:\n",
    "    print(\"can vote\")\n",
    "else:\n",
    "    print(\"not eligible for vote\")\n",
    "\n",
    "\n",
    "\n",
    "\n",
    "\n"
   ]
  },
  {
   "cell_type": "markdown",
   "id": "88f5c18c",
   "metadata": {},
   "source": [
    "# even and odd number"
   ]
  },
  {
   "cell_type": "code",
   "execution_count": 7,
   "id": "f0da05f8",
   "metadata": {},
   "outputs": [
    {
     "name": "stdout",
     "output_type": "stream",
     "text": [
      "enter a number:15\n",
      "15 is an odd number.\n"
     ]
    }
   ],
   "source": [
    "\n",
    "num=int(input(\"enter a number:\"))\n",
    "if num %2==0:\n",
    "        print(num,\"is an even number.\")\n",
    "else:\n",
    "        print(num,\"is an odd number.\")\n",
    "    "
   ]
  },
  {
   "cell_type": "markdown",
   "id": "65cda7d8",
   "metadata": {},
   "source": [
    "## check age for voting"
   ]
  },
  {
   "cell_type": "code",
   "execution_count": 9,
   "id": "9a91abc9",
   "metadata": {},
   "outputs": [
    {
     "name": "stdout",
     "output_type": "stream",
     "text": [
      "enter age:19\n",
      "you can vote\n"
     ]
    }
   ],
   "source": [
    "a =int(input(\"enter age:\"))\n",
    "if a>=18:\n",
    "    print(\"you can vote\")\n",
    "else:\n",
    "    print(\"you are not eligible.\")"
   ]
  },
  {
   "cell_type": "markdown",
   "id": "4c041f97",
   "metadata": {},
   "source": [
    "## larger of two numbers"
   ]
  },
  {
   "cell_type": "code",
   "execution_count": 12,
   "id": "734907d4",
   "metadata": {},
   "outputs": [
    {
     "name": "stdout",
     "output_type": "stream",
     "text": [
      "enter the first number:15\n",
      "enter the second number:25\n",
      "the larger number is: 25.0\n"
     ]
    }
   ],
   "source": [
    "num1=float(input(\"enter the first number:\"))\n",
    "num2=float(input(\"enter the second number:\"))\n",
    "if num1>num2:\n",
    "           print(\"the larger number is:\",num1)\n",
    "else:\n",
    "           print(\"the larger number is:\",num2)"
   ]
  },
  {
   "cell_type": "markdown",
   "id": "a236419b",
   "metadata": {},
   "source": [
    "### smallerr of two numbers"
   ]
  },
  {
   "cell_type": "code",
   "execution_count": 15,
   "id": "b8b8722f",
   "metadata": {},
   "outputs": [
    {
     "name": "stdout",
     "output_type": "stream",
     "text": [
      "enter the first number:10\n",
      "enter the second value:5\n",
      "the smaller number is: 5.0\n"
     ]
    }
   ],
   "source": [
    "num1=float(input(\"enter the first number:\"))\n",
    "num2=float(input(\"enter the second value:\"))\n",
    "if num<num2:\n",
    "    print(\"the smaller number is:\",num1)\n",
    "else:\n",
    "    print(\"the smaller number is:\",num2)"
   ]
  },
  {
   "cell_type": "markdown",
   "id": "9770fb76",
   "metadata": {},
   "source": [
    "# write program to find minimum of three numbers"
   ]
  },
  {
   "cell_type": "markdown",
   "id": "643004c0",
   "metadata": {},
   "source": [
    "# pass or fail"
   ]
  },
  {
   "cell_type": "code",
   "execution_count": 16,
   "id": "2104fc55",
   "metadata": {},
   "outputs": [
    {
     "name": "stdout",
     "output_type": "stream",
     "text": [
      "enter the student's score:70\n",
      "pass\n"
     ]
    }
   ],
   "source": [
    "score=float(input(\"enter the student's score:\"))\n",
    "if score>=60:\n",
    "    print(\"pass\")\n",
    "else:\n",
    "    print(\"fail\")"
   ]
  },
  {
   "cell_type": "markdown",
   "id": "7da4b796",
   "metadata": {},
   "source": [
    "# leap year checker"
   ]
  },
  {
   "cell_type": "code",
   "execution_count": 17,
   "id": "2009dad3",
   "metadata": {},
   "outputs": [
    {
     "name": "stdout",
     "output_type": "stream",
     "text": [
      "enter a year:2025\n",
      "not a leap year\n"
     ]
    }
   ],
   "source": [
    "year=int(input(\"enter a year:\"))\n",
    "if(year % 4==0 and year % 100!=0) or (year % 400==0):\n",
    "    print(\"leap year\")\n",
    "else:\n",
    "    print(\"not a leap year\")"
   ]
  },
  {
   "cell_type": "markdown",
   "id": "c1fcb083",
   "metadata": {},
   "source": [
    "# if else condition"
   ]
  },
  {
   "cell_type": "code",
   "execution_count": 18,
   "id": "76c86ba4",
   "metadata": {},
   "outputs": [
    {
     "name": "stdout",
     "output_type": "stream",
     "text": [
      "y is the larger number than x:\n"
     ]
    }
   ],
   "source": [
    "x=5\n",
    "y=8\n",
    "if y>x:\n",
    "    print(\"y is the larger number than x:\")\n",
    "else:\n",
    "    print(\"y is the smaller number x:\")"
   ]
  },
  {
   "cell_type": "code",
   "execution_count": 20,
   "id": "bc4803dd",
   "metadata": {},
   "outputs": [
    {
     "name": "stdout",
     "output_type": "stream",
     "text": [
      "you are not that old:\n"
     ]
    }
   ],
   "source": [
    "age=30\n",
    "age1=50\n",
    "if age<age1:\n",
    "    print(\"you are not that old:\")\n",
    "    if age1<30:\n",
    "        print(\"damn you are young\")\n",
    "else:\n",
    "    print(\"dude!you are old!\")"
   ]
  },
  {
   "cell_type": "code",
   "execution_count": 21,
   "id": "97340a2d",
   "metadata": {},
   "outputs": [
    {
     "name": "stdout",
     "output_type": "stream",
     "text": [
      "how old are you23\n",
      "you are not 21 or 22\n"
     ]
    }
   ],
   "source": [
    "age=input(\"how old are you\")\n",
    "if int(age)==21:\n",
    "    print(\"you are 21\")\n",
    "else:\n",
    "    print(\"you are not 21 or 22\")"
   ]
  },
  {
   "cell_type": "code",
   "execution_count": null,
   "id": "21159d07",
   "metadata": {},
   "outputs": [],
   "source": []
  }
 ],
 "metadata": {
  "kernelspec": {
   "display_name": "Python 3 (ipykernel)",
   "language": "python",
   "name": "python3"
  },
  "language_info": {
   "codemirror_mode": {
    "name": "ipython",
    "version": 3
   },
   "file_extension": ".py",
   "mimetype": "text/x-python",
   "name": "python",
   "nbconvert_exporter": "python",
   "pygments_lexer": "ipython3",
   "version": "3.11.3"
  }
 },
 "nbformat": 4,
 "nbformat_minor": 5
}
