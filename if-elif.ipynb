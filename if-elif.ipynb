{
 "cells": [
  {
   "cell_type": "markdown",
   "id": "035fb9c2",
   "metadata": {},
   "source": [
    "# Positive&negative number checker"
   ]
  },
  {
   "cell_type": "code",
   "execution_count": 5,
   "id": "f177b577",
   "metadata": {},
   "outputs": [
    {
     "name": "stdout",
     "output_type": "stream",
     "text": [
      "enter the number10\n",
      "the no,is positive\n"
     ]
    }
   ],
   "source": [
    "a=int(input(\"enter the number\"))\n",
    "if a>0:\n",
    "    print(\"the no,is positive\")\n",
    "elif a<0:\n",
    "    print(\"the no,is negative\")\n",
    "else:\n",
    "    print(\"the no,is zero\")"
   ]
  },
  {
   "cell_type": "markdown",
   "id": "7dfec1ab",
   "metadata": {},
   "source": [
    "# marks checker"
   ]
  },
  {
   "cell_type": "code",
   "execution_count": 16,
   "id": "75307b4f",
   "metadata": {},
   "outputs": [
    {
     "name": "stdout",
     "output_type": "stream",
     "text": [
      "enter the marks:50\n",
      "students got f grade\n"
     ]
    }
   ],
   "source": [
    "marks=int(input(\"enter the marks:\"))\n",
    "if 90<=marks<100:\n",
    "    print(\"students got A grade\")\n",
    "elif 80<=marks<90:\n",
    "    print(\"students got b grade\")\n",
    "elif 70<=marks<80:\n",
    "    print(\"students got c grade\")\n",
    "elif 60<=marks<70:\n",
    "    print(\"students got d grade\")\n",
    "elif 50<=marks<60:\n",
    "    print(\"students got f grade\")\n",
    "else:\n",
    "    print(\"students is fail\")"
   ]
  },
  {
   "cell_type": "markdown",
   "id": "650e99b8",
   "metadata": {},
   "source": [
    "# example code to classify temperature ranges"
   ]
  },
  {
   "cell_type": "code",
   "execution_count": 21,
   "id": "1eb9e09e",
   "metadata": {},
   "outputs": [
    {
     "name": "stdout",
     "output_type": "stream",
     "text": [
      "enter the temprature in celsius:50\n",
      "the temprature is classified as: warm\n"
     ]
    }
   ],
   "source": [
    "temprature=float(input(\"enter the temprature in celsius:\"))\n",
    "if temprature<0:\n",
    "    classification=\"freezing\"\n",
    "elif 0<=temprature<10:\n",
    "    classification=\"cold\"\n",
    "elif 10<=temprature<20:\n",
    "    classification=\"cool\"\n",
    "elif 20<=temprature<30:\n",
    "    classification=\"warm\"\n",
    "else:\n",
    "    classication=\"hot\"\n",
    "    print(\"the temprature is classified as:\",classification)"
   ]
  },
  {
   "cell_type": "markdown",
   "id": "6887ad3f",
   "metadata": {},
   "source": [
    "# example variable(constant&vowel)"
   ]
  },
  {
   "cell_type": "code",
   "execution_count": 22,
   "id": "4f530c08",
   "metadata": {},
   "outputs": [
    {
     "name": "stdout",
     "output_type": "stream",
     "text": [
      "this is the constant\n"
     ]
    }
   ],
   "source": [
    "var=\"z\"\n",
    "if var=='a':\n",
    "    print(\"this is the vowel a\")\n",
    "elif var=='e':\n",
    "    print(\"this is the vowel e\")\n",
    "elif var=='i':\n",
    "    print(\"this is the vowel i\")\n",
    "elif var=='o':\n",
    "    print(\"this is the vowel o\")\n",
    "elif var=='u':\n",
    "    print(\"this is the vowel u\")\n",
    "else:\n",
    "    print(\"this is the constant\")"
   ]
  },
  {
   "cell_type": "markdown",
   "id": "0b5ed602",
   "metadata": {},
   "source": [
    "# simple calculator"
   ]
  },
  {
   "cell_type": "code",
   "execution_count": 2,
   "id": "f7076dc9",
   "metadata": {},
   "outputs": [
    {
     "name": "stdout",
     "output_type": "stream",
     "text": [
      "enter the first number:50\n",
      "enter an operator(+,-,*,/):+\n",
      "enter the second number:30\n",
      "addition of 50 and 30 is: 80\n"
     ]
    }
   ],
   "source": [
    "num1=int(input(\"enter the first number:\"))\n",
    "operator=input(\"enter an operator(+,-,*,/):\")\n",
    "num2=int(input(\"enter the second number:\"))\n",
    "if operator==\"+\":\n",
    "    result=num1+num2\n",
    "    print(\"addition of\",num1, \"and\", num2, \"is:\",result)\n",
    "elif operator==\"-\":\n",
    "    result=num1-num2\n",
    "    print(\"substraction of\",num1, \"and\",num2, \"is:\",result)\n",
    "elif operator==\"*\":\n",
    "    result=num1*num2\n",
    "    print(\"multiplication of\",num1,\"and\",num2, \"is:\",result)\n",
    "elif operator==\"/\":\n",
    "    result=num1/num2\n",
    "    print(\"divide of\",num1,\"and\",num2 ,\"is:\", result)\n",
    "else:\n",
    "    print(\"invalid operator\")\n",
    "    "
   ]
  },
  {
   "cell_type": "markdown",
   "id": "4f6a8194",
   "metadata": {},
   "source": [
    "# student grade checker"
   ]
  },
  {
   "cell_type": "code",
   "execution_count": 8,
   "id": "b104247f",
   "metadata": {},
   "outputs": [
    {
     "name": "stdout",
     "output_type": "stream",
     "text": [
      "enter the percentage:70\n",
      "the student's grade is:C\n"
     ]
    }
   ],
   "source": [
    "percentage=float(input(\"enter the percentage:\"))\n",
    "if percentage >=90:\n",
    "    grade='A'\n",
    "elif percentage >=80:\n",
    "    grade='B'\n",
    "elif percentage >=70:\n",
    "    grade='C'\n",
    "elif percentage >=60:\n",
    "    grade='D'\n",
    "else:\n",
    "    grade='F'\n",
    "print(f\"the student's grade is:{grade}\") "
   ]
  },
  {
   "cell_type": "code",
   "execution_count": 9,
   "id": "db2e4389",
   "metadata": {},
   "outputs": [
    {
     "name": "stdout",
     "output_type": "stream",
     "text": [
      "enter 1st number30\n",
      "enter 2nd number40\n",
      "70\n"
     ]
    }
   ],
   "source": [
    "a=int(input(\"enter 1st number\")) #first input\n",
    "b=int(input(\"enter 2nd number\")) #second input\n",
    "c=a+b #processing(addition)\n",
    "print(c) #getting output"
   ]
  },
  {
   "cell_type": "markdown",
   "id": "1cd21072",
   "metadata": {},
   "source": [
    "# days checker"
   ]
  },
  {
   "cell_type": "code",
   "execution_count": 14,
   "id": "64cf02ba",
   "metadata": {},
   "outputs": [
    {
     "name": "stdout",
     "output_type": "stream",
     "text": [
      "enter a number:5\n",
      "friday\n"
     ]
    }
   ],
   "source": [
    "num=int(input(\"enter a number:\"))\n",
    "if num==1:\n",
    "    print(\"monday\")\n",
    "elif num==2:\n",
    "    print(\"tuesday\")\n",
    "elif num==3:\n",
    "    print(\"wednesday\")\n",
    "elif num==4:\n",
    "    print(\"thrusday\")\n",
    "elif num==5:\n",
    "    print(\"friday\")\n",
    "elif num==6:\n",
    "    print(\"saturday\")\n",
    "elif num==7:\n",
    "    print(\"sunday\")\n",
    "else:\n",
    "    print(\"please enter a number between 1to7\")"
   ]
  },
  {
   "cell_type": "code",
   "execution_count": null,
   "id": "492af7be",
   "metadata": {},
   "outputs": [],
   "source": [
    "def preference():\n",
    "    answer=input(\"what is your favourite room in the house?\")\n",
    "    if answer==\"kitchen\":\n",
    "        print(\"you probably like food.\")\n",
    "    elif answer==\"bedroom\":\n",
    "        print(\"you probably like to sleep.\")\n",
    "    elif answer==\"living room\""
   ]
  }
 ],
 "metadata": {
  "kernelspec": {
   "display_name": "Python 3 (ipykernel)",
   "language": "python",
   "name": "python3"
  },
  "language_info": {
   "codemirror_mode": {
    "name": "ipython",
    "version": 3
   },
   "file_extension": ".py",
   "mimetype": "text/x-python",
   "name": "python",
   "nbconvert_exporter": "python",
   "pygments_lexer": "ipython3",
   "version": "3.11.3"
  }
 },
 "nbformat": 4,
 "nbformat_minor": 5
}
