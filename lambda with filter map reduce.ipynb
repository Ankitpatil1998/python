{
 "cells": [
  {
   "cell_type": "code",
   "execution_count": 4,
   "id": "9dd57ae3",
   "metadata": {},
   "outputs": [
    {
     "data": {
      "text/plain": [
       "False"
      ]
     },
     "execution_count": 4,
     "metadata": {},
     "output_type": "execute_result"
    }
   ],
   "source": [
    "even=lambda a:a%2==0\n",
    "even(11)"
   ]
  },
  {
   "cell_type": "code",
   "execution_count": 5,
   "id": "68a9a8aa",
   "metadata": {},
   "outputs": [
    {
     "name": "stdout",
     "output_type": "stream",
     "text": [
      "25\n"
     ]
    }
   ],
   "source": [
    "r=lambda a:a+15\n",
    "print(r(10))"
   ]
  },
  {
   "cell_type": "code",
   "execution_count": 6,
   "id": "d96c0d37",
   "metadata": {},
   "outputs": [
    {
     "name": "stdout",
     "output_type": "stream",
     "text": [
      "40\n"
     ]
    }
   ],
   "source": [
    "r=lambda a:a+20\n",
    "print(r(20))"
   ]
  },
  {
   "cell_type": "code",
   "execution_count": 8,
   "id": "42222358",
   "metadata": {},
   "outputs": [
    {
     "name": "stdout",
     "output_type": "stream",
     "text": [
      "40\n"
     ]
    }
   ],
   "source": [
    "r=lambda x,y:x*y\n",
    "print(r(10,4))"
   ]
  },
  {
   "cell_type": "code",
   "execution_count": 10,
   "id": "d1cc87f9",
   "metadata": {},
   "outputs": [],
   "source": [
    "def mult(n):\n",
    "    return lambda x:x*n"
   ]
  },
  {
   "cell_type": "code",
   "execution_count": 14,
   "id": "404d1f72",
   "metadata": {},
   "outputs": [
    {
     "data": {
      "text/plain": [
       "16"
      ]
     },
     "execution_count": 14,
     "metadata": {},
     "output_type": "execute_result"
    }
   ],
   "source": [
    "doubler=mult(2)\n",
    "doubler(8)"
   ]
  },
  {
   "cell_type": "code",
   "execution_count": 15,
   "id": "feec78e0",
   "metadata": {},
   "outputs": [
    {
     "data": {
      "text/plain": [
       "24"
      ]
     },
     "execution_count": 15,
     "metadata": {},
     "output_type": "execute_result"
    }
   ],
   "source": [
    "doubler=mult(3)\n",
    "doubler(8)"
   ]
  },
  {
   "cell_type": "code",
   "execution_count": 16,
   "id": "45333506",
   "metadata": {},
   "outputs": [
    {
     "data": {
      "text/plain": [
       "15"
      ]
     },
     "execution_count": 16,
     "metadata": {},
     "output_type": "execute_result"
    }
   ],
   "source": [
    "tripler=mult(3)\n",
    "tripler(5)"
   ]
  },
  {
   "cell_type": "markdown",
   "id": "f4846f52",
   "metadata": {},
   "source": [
    "# filter()"
   ]
  },
  {
   "cell_type": "code",
   "execution_count": 18,
   "id": "e9d64fa4",
   "metadata": {},
   "outputs": [
    {
     "name": "stdout",
     "output_type": "stream",
     "text": [
      "[33, 13, 23, 45, 67, 3]\n"
     ]
    }
   ],
   "source": [
    "l=[56,33,13,23,22,45,56,67,3]\n",
    "x=list(filter(lambda a:a%2!=0,l))\n",
    "print(x)"
   ]
  },
  {
   "cell_type": "code",
   "execution_count": 19,
   "id": "b604259b",
   "metadata": {},
   "outputs": [
    {
     "name": "stdout",
     "output_type": "stream",
     "text": [
      "[56, 22, 56]\n"
     ]
    }
   ],
   "source": [
    "l=[56,33,13,23,22,45,56,67,3]\n",
    "x=list(filter(lambda a:a%2==0,l))\n",
    "print(x)"
   ]
  },
  {
   "cell_type": "code",
   "execution_count": 21,
   "id": "44aa935f",
   "metadata": {},
   "outputs": [
    {
     "name": "stdout",
     "output_type": "stream",
     "text": [
      "[12, 12]\n"
     ]
    }
   ],
   "source": [
    "Y=[12,42,32,12,20,50]\n",
    "x=list(filter(lambda a:a<20,Y))\n",
    "print(x)"
   ]
  },
  {
   "cell_type": "code",
   "execution_count": 23,
   "id": "60091c01",
   "metadata": {},
   "outputs": [
    {
     "name": "stdout",
     "output_type": "stream",
     "text": [
      "[10, 20, 12, 24, 21]\n"
     ]
    }
   ],
   "source": [
    "l=[10,20,45,12,24,31,21]\n",
    "x=list(filter(lambda a:a<30,l))\n",
    "print(x)"
   ]
  },
  {
   "cell_type": "code",
   "execution_count": 24,
   "id": "6dfa50b3",
   "metadata": {},
   "outputs": [
    {
     "name": "stdout",
     "output_type": "stream",
     "text": [
      "[2, 4, 6, 5, 7]\n"
     ]
    }
   ],
   "source": [
    "m=[2,4,6,5,7,10,12]\n",
    "x=list(filter(lambda a:a<10,m))\n",
    "print(x)"
   ]
  },
  {
   "cell_type": "markdown",
   "id": "bba77274",
   "metadata": {},
   "source": [
    "# map()"
   ]
  },
  {
   "cell_type": "code",
   "execution_count": 25,
   "id": "bf375d93",
   "metadata": {},
   "outputs": [
    {
     "name": "stdout",
     "output_type": "stream",
     "text": [
      "[2, 4, 6, 8, 10, 12, 14, 16, 18]\n"
     ]
    }
   ],
   "source": [
    "#square\n",
    "\n",
    "nums=[1,2,3,4,5,6,7,8,9]\n",
    "square=list(map(lambda a:a*2,nums))\n",
    "print(square)"
   ]
  },
  {
   "cell_type": "code",
   "execution_count": 29,
   "id": "79356628",
   "metadata": {},
   "outputs": [
    {
     "name": "stdout",
     "output_type": "stream",
     "text": [
      "[3, 6, 9, 12, 15, 18, 21, 24, 27]\n"
     ]
    }
   ],
   "source": [
    "nums=[1,2,3,4,5,6,7,8,9]\n",
    "x=list(map(lambda a:a*3,nums))\n",
    "print(x)"
   ]
  },
  {
   "cell_type": "markdown",
   "id": "b611f9e2",
   "metadata": {},
   "source": [
    "# reduce()"
   ]
  },
  {
   "cell_type": "markdown",
   "id": "de197f5d",
   "metadata": {},
   "source": [
    "# sum of list elements using reduce function"
   ]
  },
  {
   "cell_type": "code",
   "execution_count": 30,
   "id": "ee48dcfc",
   "metadata": {},
   "outputs": [],
   "source": [
    "from functools import reduce\n",
    "def multiplication(a,b):\n",
    "    return a*b"
   ]
  },
  {
   "cell_type": "code",
   "execution_count": 32,
   "id": "ebe9b9a6",
   "metadata": {},
   "outputs": [
    {
     "data": {
      "text/plain": [
       "6"
      ]
     },
     "execution_count": 32,
     "metadata": {},
     "output_type": "execute_result"
    }
   ],
   "source": [
    "multiplication(2,3)"
   ]
  },
  {
   "cell_type": "code",
   "execution_count": 33,
   "id": "8fa37057",
   "metadata": {},
   "outputs": [
    {
     "data": {
      "text/plain": [
       "720"
      ]
     },
     "execution_count": 33,
     "metadata": {},
     "output_type": "execute_result"
    }
   ],
   "source": [
    "1*2*3*4*5*6"
   ]
  },
  {
   "cell_type": "code",
   "execution_count": 34,
   "id": "576bb274",
   "metadata": {},
   "outputs": [
    {
     "name": "stdout",
     "output_type": "stream",
     "text": [
      "720\n"
     ]
    }
   ],
   "source": [
    "val=[1,2,3,4,5,6]  #1,2 are a,b\n",
    "x=reduce(multiplication,val)\n",
    "print(x)"
   ]
  },
  {
   "cell_type": "code",
   "execution_count": 35,
   "id": "51a19bf0",
   "metadata": {},
   "outputs": [
    {
     "name": "stdout",
     "output_type": "stream",
     "text": [
      "120\n"
     ]
    }
   ],
   "source": [
    "val=[1,2,3,4,5]\n",
    "x=reduce(multiplication,val)\n",
    "print(x)"
   ]
  },
  {
   "cell_type": "code",
   "execution_count": 36,
   "id": "dac1e4ca",
   "metadata": {},
   "outputs": [
    {
     "name": "stdout",
     "output_type": "stream",
     "text": [
      "120\n"
     ]
    }
   ],
   "source": [
    "val=[1,2,3,4,5]\n",
    "a=reduce(lambda x,y:x*y,val)\n",
    "print(a)"
   ]
  },
  {
   "cell_type": "code",
   "execution_count": 40,
   "id": "96433eb6",
   "metadata": {},
   "outputs": [
    {
     "name": "stdout",
     "output_type": "stream",
     "text": [
      "15\n"
     ]
    }
   ],
   "source": [
    "val=[1,2,3,4,5]\n",
    "a=reduce(lambda x,y:x+y,val)\n",
    "print(a)"
   ]
  },
  {
   "cell_type": "markdown",
   "id": "97100ba2",
   "metadata": {},
   "source": [
    "# finding maximum values in the list using reduce function"
   ]
  },
  {
   "cell_type": "code",
   "execution_count": 41,
   "id": "7ded7306",
   "metadata": {},
   "outputs": [],
   "source": [
    "def maximum(a,b):\n",
    "    if a>b:\n",
    "        return a\n",
    "    else:\n",
    "        return b\n",
    "        "
   ]
  },
  {
   "cell_type": "code",
   "execution_count": 46,
   "id": "6fa91be5",
   "metadata": {},
   "outputs": [
    {
     "name": "stdout",
     "output_type": "stream",
     "text": [
      "80\n"
     ]
    }
   ],
   "source": [
    "val=[10,20,30,40,50,60,70,80]\n",
    "max1=reduce(maximum,val)\n",
    "print(max1)"
   ]
  },
  {
   "cell_type": "code",
   "execution_count": 47,
   "id": "9d593e5f",
   "metadata": {},
   "outputs": [
    {
     "data": {
      "text/plain": [
       "80"
      ]
     },
     "execution_count": 47,
     "metadata": {},
     "output_type": "execute_result"
    }
   ],
   "source": [
    "max1"
   ]
  },
  {
   "cell_type": "code",
   "execution_count": 48,
   "id": "d42b60e7",
   "metadata": {},
   "outputs": [],
   "source": [
    "max_lambda=reduce(lambda a,b:a if a>b else b,val)"
   ]
  },
  {
   "cell_type": "code",
   "execution_count": 49,
   "id": "8e17f2d2",
   "metadata": {},
   "outputs": [
    {
     "data": {
      "text/plain": [
       "80"
      ]
     },
     "execution_count": 49,
     "metadata": {},
     "output_type": "execute_result"
    }
   ],
   "source": [
    "max_lambda"
   ]
  },
  {
   "cell_type": "markdown",
   "id": "69348fd7",
   "metadata": {},
   "source": [
    "# product of numbers"
   ]
  },
  {
   "cell_type": "code",
   "execution_count": 56,
   "id": "1190b6ce",
   "metadata": {},
   "outputs": [
    {
     "name": "stdout",
     "output_type": "stream",
     "text": [
      "product of elements: 120\n"
     ]
    }
   ],
   "source": [
    "nums=[1,2,3,4,5]\n",
    "product = reduce(lambda x, y: x * y, numbers)\n",
    "print(\"product of elements:\",product)"
   ]
  },
  {
   "cell_type": "code",
   "execution_count": 51,
   "id": "0a38a379",
   "metadata": {},
   "outputs": [
    {
     "data": {
      "text/plain": [
       "120"
      ]
     },
     "execution_count": 51,
     "metadata": {},
     "output_type": "execute_result"
    }
   ],
   "source": [
    "product"
   ]
  },
  {
   "cell_type": "code",
   "execution_count": 59,
   "id": "8e684ede",
   "metadata": {},
   "outputs": [
    {
     "name": "stdout",
     "output_type": "stream",
     "text": [
      "products of element is: 5040\n"
     ]
    }
   ],
   "source": [
    "nums=[1,2,3,4,5,6,7]\n",
    "product = reduce(lambda x, y: x * y, nums)\n",
    "print(\"products of element is:\",product)"
   ]
  },
  {
   "cell_type": "code",
   "execution_count": null,
   "id": "09a154ad",
   "metadata": {},
   "outputs": [],
   "source": []
  }
 ],
 "metadata": {
  "kernelspec": {
   "display_name": "Python 3 (ipykernel)",
   "language": "python",
   "name": "python3"
  },
  "language_info": {
   "codemirror_mode": {
    "name": "ipython",
    "version": 3
   },
   "file_extension": ".py",
   "mimetype": "text/x-python",
   "name": "python",
   "nbconvert_exporter": "python",
   "pygments_lexer": "ipython3",
   "version": "3.11.3"
  }
 },
 "nbformat": 4,
 "nbformat_minor": 5
}
